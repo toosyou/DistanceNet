{
 "cells": [
  {
   "cell_type": "code",
   "execution_count": 1,
   "metadata": {},
   "outputs": [],
   "source": [
    "import numpy as np\n",
    "from scipy import signal\n",
    "import matplotlib.pyplot as plt"
   ]
  },
  {
   "cell_type": "code",
   "execution_count": 2,
   "metadata": {},
   "outputs": [],
   "source": [
    "def gen_sig(signal_length=100, gaussian_level=51):\n",
    "    sig = np.zeros(signal_length)\n",
    "    peaks = np.random.randint(0, signal_length, 1)\n",
    "    sig[peaks] = 1\n",
    "    window = signal.gaussian(gaussian_level, std=4)\n",
    "    for i in range(peaks[0] - (gaussian_level // 2), peaks[0] + (gaussian_level // 2)+1):\n",
    "        if i >= 0 and i < signal_length:\n",
    "            sig[i] = window[i - (peaks[0] - (gaussian_level // 2))]\n",
    "    return sig, peaks"
   ]
  },
  {
   "cell_type": "code",
   "execution_count": 3,
   "metadata": {},
   "outputs": [],
   "source": [
    "def gen_distance_peak_data(num_data=1000, channel=2, signal_length=100):\n",
    "    X = np.zeros((num_data, channel, signal_length))\n",
    "    Y = np.zeros((num_data, ))\n",
    "    for i in range(num_data):\n",
    "        peaks = []\n",
    "        for j in range(channel):\n",
    "            sig, peak = gen_sig()\n",
    "            X[i,j] = sig\n",
    "            peaks.append(peak)\n",
    "        Y[i] = peaks[1] - peaks[0]\n",
    "    return X, Y"
   ]
  },
  {
   "cell_type": "code",
   "execution_count": 26,
   "metadata": {},
   "outputs": [
    {
     "data": {
      "image/png": "[encoded data removed]",
      "text/plain": [
       "<Figure size 432x288 with 1 Axes>"
      ]
     },
     "metadata": {
      "needs_background": "light"
     },
     "output_type": "display_data"
    },
    {
     "name": "stdout",
     "output_type": "stream",
     "text": [
      "(1000, 2, 100)\n",
      "-76.0\n"
     ]
    }
   ],
   "source": [
    "X, Y = gen_distance_peak_data()\n",
    "x = np.arange(100)\n",
    "plt.plot(x, X[0,0])\n",
    "plt.plot(x, X[0,1])\n",
    "plt.show()\n",
    "print(X.shape)\n",
    "print(Y[0])"
   ]
  },
  {
   "cell_type": "code",
   "execution_count": null,
   "metadata": {},
   "outputs": [],
   "source": []
  }
 ],
 "metadata": {
  "kernelspec": {
   "display_name": "Python 3",
   "language": "python",
   "name": "python3"
  },
  "language_info": {
   "codemirror_mode": {
    "name": "ipython",
    "version": 3
   },
   "file_extension": ".py",
   "mimetype": "text/x-python",
   "name": "python",
   "nbconvert_exporter": "python",
   "pygments_lexer": "ipython3",
   "version": "3.6.9"
  }
 },
 "nbformat": 4,
 "nbformat_minor": 4
}
